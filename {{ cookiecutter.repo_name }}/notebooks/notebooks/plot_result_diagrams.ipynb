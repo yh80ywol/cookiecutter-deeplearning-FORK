{
 "cells": [
  {
   "cell_type": "markdown",
   "id": "57a7ae1e",
   "metadata": {},
   "source": [
    "### Diagrams \n",
    "\n",
    "(just copy and set data of each experiment)\n",
    "\n",
    "-> output diagrams saved in folder /reports"
   ]
  },
  {
   "cell_type": "code",
   "execution_count": 2,
   "id": "21a7c7e7",
   "metadata": {},
   "outputs": [],
   "source": [
    "import numpy as np\n",
    "import matplotlib.pyplot as plt"
   ]
  },
  {
   "cell_type": "markdown",
   "id": "3e2ae201",
   "metadata": {},
   "source": [
    "#### TimeSeries DS1 Klassen 5"
   ]
  },
  {
   "cell_type": "code",
   "execution_count": 48,
   "id": "1f23db48",
   "metadata": {},
   "outputs": [
    {
     "data": {
      "image/png": "[encoded data removed]",
      "text/plain": [
       "<Figure size 432x216 with 1 Axes>"
      ]
     },
     "metadata": {
      "needs_background": "light"
     },
     "output_type": "display_data"
    },
    {
     "name": "stdout",
     "output_type": "stream",
     "text": [
      "Median Werte:\n",
      "Versuch 1 : 80.55555820465088\n",
      "Versuch 2 : 85.41666565\n",
      "Oberhof Ergebnisse : 82.6388865\n"
     ]
    }
   ],
   "source": [
    "#set data and name\n",
    "Oberhof_Werte=[0.6944444179534912,0.8055555820465088,0.8055555820465088,0.8333333134651184,0.8611111044883728,0.7222222089767456,0.8333333134651184,0.75,0.7361111044883728,0.8194444179534912]\n",
    "Angepasste_Werte=[0.875,0.875,0.847222209,0.875,0.847222209,0.833333313,0.847222209,0.833333313,0.875,0.861111104]\n",
    "Oberhof_Ergebnisse=[0.84722221,0.81944442,0.95833331,0.72222221,0.7638889,0.8638889,0.83333331,0.79166669,0.93055558,0.77777779] \n",
    "data_name = [\"Versuch 1\", \"Versuch 2\", \"Oberhof Ergebnisse\"]\n",
    "versuch = \"TimeSeries_DS1_5\"\n",
    "\n",
    "\n",
    "\n",
    "#convert data *100\n",
    "data  = (np.array([Oberhof_Werte, Angepasste_Werte, Oberhof_Ergebnisse])*100)\n",
    "data = list(data)\n",
    "\n",
    "#plot figure\n",
    "fig, ax = plt.subplots(figsize=(6, 3))\n",
    "ax.boxplot(data)\n",
    "\n",
    "ax.set_axisbelow(True)\n",
    "#ax.set_title('Modellbewertung', fontsize=15)\n",
    "ax.set_ylabel('Test-Accuracy in %', fontsize=11)\n",
    "ax.set_ylim(0.6*100, 1.005*100)\n",
    "\n",
    "ax.set_xticklabels(data_name, fontsize=11)\n",
    "\n",
    "ax.yaxis.grid(True, linestyle='-', which='major', color='lightgrey', alpha=0.5)\n",
    "plt.savefig('../../reports/' + str(versuch) +'.svg')\n",
    "plt.show()\n",
    "\n",
    "#Median Werte\n",
    "print(\"Median Werte:\")\n",
    "for i in range(len(data)):\n",
    "    print(data_name[i], \":\", np.median(data[i]))"
   ]
  },
  {
   "cell_type": "markdown",
   "id": "fdc52df0",
   "metadata": {},
   "source": [
    "#### TimeSeries DS1 Klassen 4"
   ]
  },
  {
   "cell_type": "code",
   "execution_count": 49,
   "id": "a26dd479",
   "metadata": {},
   "outputs": [
    {
     "data": {
      "image/png": "[encoded data removed]",
      "text/plain": [
       "<Figure size 432x216 with 1 Axes>"
      ]
     },
     "metadata": {
      "needs_background": "light"
     },
     "output_type": "display_data"
    },
    {
     "name": "stdout",
     "output_type": "stream",
     "text": [
      "Median Werte:\n",
      "Versuch 1 : 86.80555522441864\n",
      "Versuch 2 : 90.9722238779068\n",
      "Oberhof Ergebnisse : 90.27777900000001\n"
     ]
    }
   ],
   "source": [
    "#set data and name\n",
    "Angepasste_Werte=[0.875,0.9583333134651184,0.9166666865348816,0.9027777910232544,0.875,0.9166666865348816,0.9583333134651184,0.8611111044883728,0.9444444179534912,0.8611111044883728]\n",
    "Oberhof_Werte=[0.875,0.9583333134651184,0.7638888955116272,0.8888888955116272,0.8333333134651184,0.9305555820465088,0.8611111044883728,0.8333333134651184,0.8888888955116272,0.8611111044883728]\n",
    "Oberhof_Ergebnisse=[0.90277779,0.90277779,0.875,0.81944442,0.875,0.93055558,0.93055558,0.875,0.93055558,0.90277779]\n",
    "data_name = [\"Versuch 1\", \"Versuch 2\", \"Oberhof Ergebnisse\"]\n",
    "versuch = \"TimeSeries_DS1_4\"\n",
    "\n",
    "\n",
    "\n",
    "#convert data *100\n",
    "data  = (np.array([Oberhof_Werte, Angepasste_Werte, Oberhof_Ergebnisse])*100)\n",
    "data = list(data)\n",
    "\n",
    "#plot figure\n",
    "fig, ax = plt.subplots(figsize=(6, 3))\n",
    "ax.boxplot(data)\n",
    "\n",
    "ax.set_axisbelow(True)\n",
    "#ax.set_title('Modellbewertung', fontsize=15)\n",
    "ax.set_ylabel('Test-Accuracy in %', fontsize=11)\n",
    "ax.set_ylim(0.6*100, 1.005*100)\n",
    "\n",
    "ax.set_xticklabels(data_name, fontsize=11)\n",
    "\n",
    "ax.yaxis.grid(True, linestyle='-', which='major', color='lightgrey', alpha=0.5)\n",
    "plt.savefig('../../reports/' + str(versuch) +'.svg')\n",
    "plt.show()\n",
    "\n",
    "#Median Werte\n",
    "print(\"Median Werte:\")\n",
    "for i in range(len(data)):\n",
    "    print(data_name[i], \":\", np.median(data[i]))"
   ]
  },
  {
   "cell_type": "markdown",
   "id": "a3fbfc48",
   "metadata": {},
   "source": [
    "#### Images DS2"
   ]
  },
  {
   "cell_type": "code",
   "execution_count": 16,
   "id": "af7f4f62",
   "metadata": {},
   "outputs": [
    {
     "data": {
      "image/png": "[encoded data removed]",
      "text/plain": [
       "<Figure size 432x216 with 1 Axes>"
      ]
     },
     "metadata": {
      "needs_background": "light"
     },
     "output_type": "display_data"
    },
    {
     "name": "stdout",
     "output_type": "stream",
     "text": [
      "Median Werte:\n",
      "Versuch 1 : 88.0\n",
      "Versuch 2 : 91.40625\n",
      "Pfab Ergebnisse : 91.0\n"
     ]
    }
   ],
   "source": [
    "#set data and name\n",
    "#TODO#TODO#TODO\n",
    "Angepasste_Werte=[0.9375,0.953125,0.90625,0.921875,0.859375,0.875,0.65625,0.890625,0.9375,0.921875]\n",
    "#TODO#TODO#TODO\n",
    "\n",
    "\n",
    "Pfab_Werte=[0.89,0.87,0.89,0.84,0.84,0.88,0.91,0.91,0.88,0.88]\n",
    "#(Pfab Ergebnisse konnten nur geschätzt werden -> aus Abb. 90 seiner Arbeit)\n",
    "Pfab_Ergebnisse=[0.66,0.68,0.67,0.91,0.91,0.945,0.932,0.92,0.90,0.91] \n",
    "\n",
    "data_name = [\"Versuch 1\", \"Versuch 2\", \"Pfab Ergebnisse\"]\n",
    "versuch = \"Images_DS2\"\n",
    "\n",
    "\n",
    "\n",
    "#convert data *100\n",
    "data  = (np.array([Pfab_Werte, Angepasste_Werte, Pfab_Ergebnisse])*100)\n",
    "data = list(data)\n",
    "\n",
    "#plot figure\n",
    "fig, ax = plt.subplots(figsize=(6, 3))\n",
    "ax.boxplot(data)\n",
    "\n",
    "ax.set_axisbelow(True)\n",
    "#ax.set_title('Modellbewertung', fontsize=15)\n",
    "ax.set_ylabel('Test-Accuracy in %', fontsize=11)\n",
    "ax.set_ylim(0.6*100, 1.005*100)\n",
    "\n",
    "ax.set_xticklabels(data_name, fontsize=11)\n",
    "\n",
    "ax.yaxis.grid(True, linestyle='-', which='major', color='lightgrey', alpha=0.5)\n",
    "plt.savefig('../../reports/' + str(versuch) +'.svg')\n",
    "plt.show()\n",
    "\n",
    "#Median Werte\n",
    "print(\"Median Werte:\")\n",
    "for i in range(len(data)):\n",
    "    print(data_name[i], \":\", np.median(data[i]))"
   ]
  },
  {
   "cell_type": "code",
   "execution_count": null,
   "id": "5ff6bdf8",
   "metadata": {},
   "outputs": [],
   "source": []
  }
 ],
 "metadata": {
  "kernelspec": {
   "display_name": "Python 3 (ipykernel)",
   "language": "python",
   "name": "python3"
  },
  "language_info": {
   "codemirror_mode": {
    "name": "ipython",
    "version": 3
   },
   "file_extension": ".py",
   "mimetype": "text/x-python",
   "name": "python",
   "nbconvert_exporter": "python",
   "pygments_lexer": "ipython3",
   "version": "3.8.12"
  }
 },
 "nbformat": 4,
 "nbformat_minor": 5
}
